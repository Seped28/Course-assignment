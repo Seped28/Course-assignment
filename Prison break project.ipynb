{
 "cells": [
  {
   "cell_type": "markdown",
   "metadata": {},
   "source": [
    "# Data science project 101\n"
   ]
  },
  {
   "cell_type": "markdown",
   "metadata": {},
   "source": [
    "## Prison Helicopter Escapes"
   ]
  },
  {
   "cell_type": "markdown",
   "metadata": {},
   "source": [
    "We begin by importing some helper functions."
   ]
  },
  {
   "cell_type": "code",
   "execution_count": 21,
   "metadata": {},
   "outputs": [],
   "source": [
    "from helper import *"
   ]
  },
  {
   "cell_type": "markdown",
   "metadata": {},
   "source": [
    "## Get the Data"
   ]
  },
  {
   "cell_type": "markdown",
   "metadata": {},
   "source": [
    "Now, let's get the data from the [List of helicopter prison escapes](https://en.wikipedia.org/wiki/List_of_helicopter_prison_escapes) Wikipedia article."
   ]
  },
  {
   "cell_type": "code",
   "execution_count": 22,
   "metadata": {},
   "outputs": [],
   "source": [
    "url = \"https://en.wikipedia.org/wiki/List_of_helicopter_prison_escapes\""
   ]
  },
  {
   "cell_type": "code",
   "execution_count": 23,
   "metadata": {},
   "outputs": [],
   "source": [
    "data = data_from_url(url)"
   ]
  },
  {
   "cell_type": "markdown",
   "metadata": {},
   "source": [
    "Let's print the first three rows"
   ]
  },
  {
   "cell_type": "code",
   "execution_count": 24,
   "metadata": {
    "scrolled": true
   },
   "outputs": [
    {
     "name": "stdout",
     "output_type": "stream",
     "text": [
      "['August 19, 1971', 'Santa Martha Acatitla', 'Mexico', 'Yes']\n",
      "['October 31, 1973', 'Mountjoy Jail', 'Ireland', 'Yes']\n",
      "['May 24, 1978', 'United States Penitentiary, Marion', 'United States', 'No']\n",
      "['February 27, 1981', 'Fleury-Mérogis, Essonne, Ile de France', 'France', 'Yes']\n",
      "['May 7, 1981', 'Orsainville Prison, Quebec City', 'Canada', 'No']\n",
      "['January, 1983', 'Pentridge (HM Prison)', 'Australia', 'No']\n",
      "['December 19, 1985', 'Perry Correctional Institution, Pelzer, South Carolina', 'United States', 'Yes']\n",
      "['December 31, 1985', 'Cândido Mendes penitentiary, Ilha Grande, Rio de Janeiro', 'Brazil', 'Yes']\n",
      "['May 26, 1986', 'Prison de la Santé', 'France', 'Yes']\n",
      "['November 5, 1986', 'Federal Correctional Institution, Dublin', 'United States', 'Yes']\n",
      "['November 23, 1986', 'Prigione di Rebibbia, Roma', 'Italy', 'Yes']\n",
      "['December 10, 1987', 'Gartree (HM Prison)', 'United Kingdom', 'Yes']\n",
      "['July 11, 1988', 'Santa Fe prison', 'United States', 'Yes']\n",
      "['April 17, 1989', 'Federal Holding Facility, Miami, FL', 'United States', 'No']\n",
      "['August 19, 1989', 'Arkansas Valley Correctional Facility', 'United States', 'Yes']\n",
      "['June 19, 1990', 'Kent Penitentiary, British Columbia', 'Canada', 'Yes']\n",
      "['April 7, 1991', 'Rio Piedras State Penitentiary, Puerto Rico', 'Puerto Rico', 'Yes']\n",
      "['February 24, 1992', 'Lyon Prison', 'France', 'Yes']\n",
      "['December 1992', 'Touraine Central Prison, Tours', 'France', 'No']\n",
      "['June 17, 1993', 'Touraine Central Prison, Tours', 'France', 'No']\n",
      "['December 30, 1996', 'High Security Prison, Santiago', 'Chile', 'Yes']\n",
      "['September 18, 1997', 'De Geerhorst jail', 'Netherlands', 'No']\n",
      "['March 25, 1999', 'Metropolitan Remand and Reception Centre', 'Australia', 'Yes']\n",
      "['June 5, 2000', 'Martin Treatment Center for Sexually Violent Predators, Martin County Florida', 'United States', 'Yes']\n",
      "['December 13, 2000', 'Lyon prison', 'France', 'Yes']\n",
      "['January 19, 2001', 'Luynes prison', 'France', 'Yes']\n",
      "['March 24, 2001', 'Draguignan prison', 'France', 'Yes']\n",
      "['May 28, 2001', 'Fresnes prison', 'France', 'No']\n",
      "['January 17, 2002', 'Parada Neto Penitentiary', 'Brazil', 'Yes']\n",
      "['December 30, 2002', 'Las Cucharas prison, Puerto Rico', 'United States', 'Yes']\n",
      "['April 4, 2003', 'Luynes prison', 'France', 'Yes']\n",
      "['July 2005', 'France', 'France', 'No']\n",
      "['December 10, 2005', 'Aiton Prison', 'France', 'Yes']\n",
      "['June 6, 2006', 'Korydallos Prison', 'Greece', 'Yes']\n",
      "['April 15, 2007', 'Lantin Prison, Liège', 'Belgium', 'Yes']\n",
      "['July 15, 2007', 'Grasse prison', 'France', 'Yes']\n",
      "['October 28, 2007', 'Ittre prison', 'Belgium', 'No']\n",
      "['February 22, 2009', 'Korydallos Prison', 'Greece', 'Yes']\n",
      "['April 27, 2009', 'Domenjod Prison, Réunion', 'France', 'Yes']\n",
      "['July 23, 2009', 'Bruges', 'Belgium', 'Yes']\n",
      "['June 25, 2010', 'HM Prison Isle of Wight, Isle of Wight', 'United Kingdom', 'No']\n",
      "['March 22, 2012', 'Sheksna, Penal colony N17', 'Russia', 'Yes']\n",
      "['February 24, 2013', 'Trikala Prison, Trikala', 'Greece', 'No']\n",
      "['March 17, 2013', 'Saint-Jérôme Detention Facility, Quebec', 'Canada', 'Yes']\n",
      "['June 7, 2014', 'Orsainville Detention Facility, Quebec', 'Canada', 'Yes']\n",
      "['February 22, 2016', 'Thiva', 'Greece', 'No']\n",
      "['July 1, 2018', 'Réau, near Paris', 'France', 'Yes']\n",
      "['September 25, 2020', 'Forest prison, Brussels', 'Belgium', 'No']\n"
     ]
    }
   ],
   "source": [
    "for row in data:\n",
    "    print(row[:4])"
   ]
  },
  {
   "cell_type": "code",
   "execution_count": 25,
   "metadata": {},
   "outputs": [],
   "source": [
    "## Removing the Details\n",
    "## We initialize an index variable with the value of 0. The purpose of this variable is to help us track which row we're modifying."
   ]
  },
  {
   "cell_type": "code",
   "execution_count": 26,
   "metadata": {},
   "outputs": [],
   "source": [
    "index = 0\n",
    "for row in data:\n",
    "    data[index] = row[:-1]\n",
    "    index=+1"
   ]
  },
  {
   "cell_type": "code",
   "execution_count": 27,
   "metadata": {},
   "outputs": [
    {
     "name": "stdout",
     "output_type": "stream",
     "text": [
      "[['August 19, 1971', 'Santa Martha Acatitla', 'Mexico', 'Yes', 'Joel David Kaplan Carlos Antonio Contreras Castro'], ['September 25, 2020', 'Forest prison, Brussels', 'Belgium', 'No', 'Kristel A.']]\n"
     ]
    }
   ],
   "source": [
    "print(data[:2])"
   ]
  },
  {
   "cell_type": "code",
   "execution_count": 28,
   "metadata": {},
   "outputs": [],
   "source": [
    "#Extracting the year from the date"
   ]
  },
  {
   "cell_type": "code",
   "execution_count": 29,
   "metadata": {},
   "outputs": [],
   "source": [
    "for row in data:\n",
    "    row[0] = fetch_year(row[0])"
   ]
  },
  {
   "cell_type": "code",
   "execution_count": 30,
   "metadata": {},
   "outputs": [
    {
     "name": "stdout",
     "output_type": "stream",
     "text": [
      "[[1971, 'Santa Martha Acatitla', 'Mexico', 'Yes', 'Joel David Kaplan Carlos Antonio Contreras Castro'], [2020, 'Forest prison, Brussels', 'Belgium', 'No', 'Kristel A.']]\n"
     ]
    }
   ],
   "source": [
    "print(data[:2])"
   ]
  },
  {
   "cell_type": "code",
   "execution_count": 31,
   "metadata": {},
   "outputs": [],
   "source": [
    "#Determining the attempts per year"
   ]
  },
  {
   "cell_type": "code",
   "execution_count": 32,
   "metadata": {},
   "outputs": [
    {
     "name": "stdout",
     "output_type": "stream",
     "text": [
      "1971\n",
      "2020\n"
     ]
    }
   ],
   "source": [
    "min_year = min(data, key=lambda x: x[0])[0]\n",
    "max_year = max(data, key=lambda x: x[0])[0]\n",
    "\n",
    "print(min_year)\n",
    "print(max_year)"
   ]
  },
  {
   "cell_type": "code",
   "execution_count": 33,
   "metadata": {},
   "outputs": [],
   "source": [
    "\n",
    "years = []\n",
    "for year in range(min_year, max_year + 1):\n",
    "    years.append(year)\n",
    "    "
   ]
  },
  {
   "cell_type": "code",
   "execution_count": 34,
   "metadata": {},
   "outputs": [
    {
     "name": "stdout",
     "output_type": "stream",
     "text": [
      "[1971, 1972, 1973, 1974, 1975, 1976, 1977, 1978, 1979, 1980, 1981, 1982, 1983, 1984, 1985, 1986, 1987, 1988, 1989, 1990, 1991, 1992, 1993, 1994, 1995, 1996, 1997, 1998, 1999, 2000, 2001, 2002, 2003, 2004, 2005, 2006, 2007, 2008, 2009, 2010, 2011, 2012, 2013, 2014, 2015, 2016, 2017, 2018, 2019, 2020]\n"
     ]
    }
   ],
   "source": [
    "print(years)"
   ]
  },
  {
   "cell_type": "code",
   "execution_count": 35,
   "metadata": {},
   "outputs": [],
   "source": [
    "attempts_per_year = []\n",
    "for year in years:\n",
    "    attempts_per_year.append([year,0])"
   ]
  },
  {
   "cell_type": "code",
   "execution_count": 36,
   "metadata": {},
   "outputs": [
    {
     "name": "stdout",
     "output_type": "stream",
     "text": [
      "[[1971, 0], [1972, 0], [1973, 0], [1974, 0], [1975, 0], [1976, 0], [1977, 0], [1978, 0], [1979, 0], [1980, 0], [1981, 0], [1982, 0], [1983, 0], [1984, 0], [1985, 0], [1986, 0], [1987, 0], [1988, 0], [1989, 0], [1990, 0], [1991, 0], [1992, 0], [1993, 0], [1994, 0], [1995, 0], [1996, 0], [1997, 0], [1998, 0], [1999, 0], [2000, 0], [2001, 0], [2002, 0], [2003, 0], [2004, 0], [2005, 0], [2006, 0], [2007, 0], [2008, 0], [2009, 0], [2010, 0], [2011, 0], [2012, 0], [2013, 0], [2014, 0], [2015, 0], [2016, 0], [2017, 0], [2018, 0], [2019, 0], [2020, 0]]\n"
     ]
    }
   ],
   "source": [
    "print(attempts_per_year)"
   ]
  },
  {
   "cell_type": "code",
   "execution_count": 37,
   "metadata": {},
   "outputs": [
    {
     "name": "stdout",
     "output_type": "stream",
     "text": [
      "[[1971, 1], [1972, 0], [1973, 0], [1974, 0], [1975, 0], [1976, 0], [1977, 0], [1978, 1], [1979, 0], [1980, 0], [1981, 2], [1982, 0], [1983, 1], [1984, 0], [1985, 2], [1986, 3], [1987, 1], [1988, 1], [1989, 2], [1990, 1], [1991, 1], [1992, 2], [1993, 1], [1994, 0], [1995, 0], [1996, 1], [1997, 1], [1998, 0], [1999, 1], [2000, 2], [2001, 3], [2002, 2], [2003, 1], [2004, 0], [2005, 2], [2006, 1], [2007, 3], [2008, 0], [2009, 3], [2010, 1], [2011, 0], [2012, 1], [2013, 2], [2014, 1], [2015, 0], [2016, 1], [2017, 0], [2018, 1], [2019, 0], [2020, 2]]\n"
     ]
    }
   ],
   "source": [
    "for row in data:\n",
    "    for year_attempt in attempts_per_year: \n",
    "        year = year_attempt[0]\n",
    "        if row[0] == year:\n",
    "            year_attempt[1] += 1\n",
    "\n",
    "print(attempts_per_year)"
   ]
  },
  {
   "cell_type": "code",
   "execution_count": 38,
   "metadata": {},
   "outputs": [],
   "source": [
    "#visualization"
   ]
  },
  {
   "cell_type": "code",
   "execution_count": 39,
   "metadata": {},
   "outputs": [
    {
     "data": {
      "image/png": "[encoded data removed]",
      "text/plain": [
       "<Figure size 900x1500 with 1 Axes>"
      ]
     },
     "metadata": {},
     "output_type": "display_data"
    }
   ],
   "source": [
    "%matplotlib inline\n",
    "barplot(attempts_per_year)"
   ]
  },
  {
   "cell_type": "code",
   "execution_count": 40,
   "metadata": {},
   "outputs": [
    {
     "data": {
      "text/html": [
       "<table border=\"1\" class=\"dataframe\">\n",
       "  <thead>\n",
       "    <tr style=\"text-align: right;\">\n",
       "      <th>Country</th>\n",
       "      <th>Number of Occurrences</th>\n",
       "    </tr>\n",
       "  </thead>\n",
       "  <tbody>\n",
       "    <tr>\n",
       "      <td>France</td>\n",
       "      <td>15</td>\n",
       "    </tr>\n",
       "    <tr>\n",
       "      <td>United States</td>\n",
       "      <td>8</td>\n",
       "    </tr>\n",
       "    <tr>\n",
       "      <td>Belgium</td>\n",
       "      <td>4</td>\n",
       "    </tr>\n",
       "    <tr>\n",
       "      <td>Greece</td>\n",
       "      <td>4</td>\n",
       "    </tr>\n",
       "    <tr>\n",
       "      <td>Canada</td>\n",
       "      <td>4</td>\n",
       "    </tr>\n",
       "    <tr>\n",
       "      <td>United Kingdom</td>\n",
       "      <td>2</td>\n",
       "    </tr>\n",
       "    <tr>\n",
       "      <td>Australia</td>\n",
       "      <td>2</td>\n",
       "    </tr>\n",
       "    <tr>\n",
       "      <td>Brazil</td>\n",
       "      <td>2</td>\n",
       "    </tr>\n",
       "    <tr>\n",
       "      <td>Russia</td>\n",
       "      <td>1</td>\n",
       "    </tr>\n",
       "    <tr>\n",
       "      <td>Ireland</td>\n",
       "      <td>1</td>\n",
       "    </tr>\n",
       "    <tr>\n",
       "      <td>Netherlands</td>\n",
       "      <td>1</td>\n",
       "    </tr>\n",
       "    <tr>\n",
       "      <td>Puerto Rico</td>\n",
       "      <td>1</td>\n",
       "    </tr>\n",
       "    <tr>\n",
       "      <td>Chile</td>\n",
       "      <td>1</td>\n",
       "    </tr>\n",
       "    <tr>\n",
       "      <td>Mexico</td>\n",
       "      <td>1</td>\n",
       "    </tr>\n",
       "    <tr>\n",
       "      <td>Italy</td>\n",
       "      <td>1</td>\n",
       "    </tr>\n",
       "  </tbody>\n",
       "</table>"
      ],
      "text/plain": [
       "<IPython.core.display.HTML object>"
      ]
     },
     "metadata": {},
     "output_type": "display_data"
    }
   ],
   "source": [
    "countries_frequency = df[\"Country\"].value_counts()\n",
    "print_pretty_table(countries_frequency)"
   ]
  },
  {
   "cell_type": "code",
   "execution_count": null,
   "metadata": {},
   "outputs": [],
   "source": []
  }
 ],
 "metadata": {
  "kernelspec": {
   "display_name": "Python 3",
   "language": "python",
   "name": "python3"
  },
  "language_info": {
   "codemirror_mode": {
    "name": "ipython",
    "version": 3
   },
   "file_extension": ".py",
   "mimetype": "text/x-python",
   "name": "python",
   "nbconvert_exporter": "python",
   "pygments_lexer": "ipython3",
   "version": "3.8.2"
  }
 },
 "nbformat": 4,
 "nbformat_minor": 2
}
